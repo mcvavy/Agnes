{
 "cells": [
  {
   "cell_type": "markdown",
   "metadata": {},
   "source": [
    "### Jupiter playground"
   ]
  },
  {
   "cell_type": "code",
   "execution_count": 7,
   "metadata": {},
   "outputs": [
    {
     "name": "stdout",
     "output_type": "stream",
     "text": [
      "{'ledger', 'book_of_account', 'Christian_Bible', 'Holy_Writ', 'book', 'hold', 'record', 'account_book', 'Book', 'rule_book', 'Scripture', 'Bible', \"al-Qur'an\", 'Holy_Scripture', 'playscript', 'Word', 'Koran', 'Word_of_God', 'leger', 'volume', 'Good_Book', 'record_book', 'Quran', 'reserve', 'script'}\n"
     ]
    }
   ],
   "source": [
    "from nltk.corpus import wordnet\n",
    "synonyms = []\n",
    "for syn in wordnet.synsets('book'):\n",
    "    for lemma in syn.lemmas():\n",
    "        synonyms.append(lemma.name())\n",
    "print(set(synonyms))"
   ]
  },
  {
   "cell_type": "code",
   "execution_count": 8,
   "metadata": {},
   "outputs": [
    {
     "name": "stdout",
     "output_type": "stream",
     "text": [
      "['Good', 'moring', 'John']\n"
     ]
    }
   ],
   "source": [
    "from nltk.corpus import stopwords\n",
    "english_stops = set(stopwords.words('english'))\n",
    "sent = \"Good moring John\".split()\n",
    "print([word for word in sent if word not in english_stops])"
   ]
  },
  {
   "cell_type": "code",
   "execution_count": 11,
   "metadata": {},
   "outputs": [
    {
     "name": "stdout",
     "output_type": "stream",
     "text": [
      "[('What', 'O'), ('is', 'O'), ('the', 'O'), ('weather', 'O'), ('forcast', 'O'), ('Northampton', 'LOCATION'), ('England', 'LOCATION')]\n",
      "Northampton,England\n"
     ]
    }
   ],
   "source": [
    "from nltk.tag import StanfordNERTagger\n",
    "from nltk.tokenize import word_tokenize\n",
    "\n",
    "st = StanfordNERTagger('english.muc.7class.distsim.crf.ser.gz',\n",
    "\t\t\t\t\t   'stanford-ner.jar',\n",
    "\t\t\t\t\t   encoding='utf-8')\n",
    "\n",
    "text = 'What is the weather forcast Northampton England'\n",
    "\n",
    "tokenized_text = word_tokenize(text)\n",
    "classified_text = st.tag(tokenized_text)\n",
    "\n",
    "print(classified_text)\n",
    "\n",
    "res = []\n",
    "for pair in classified_text:\n",
    "    if pair[1] == \"LOCATION\":\n",
    "        res.append(pair[0])\n",
    "print(\",\".join(res))\n",
    "    "
   ]
  },
  {
   "cell_type": "code",
   "execution_count": 10,
   "metadata": {},
   "outputs": [
    {
     "name": "stdout",
     "output_type": "stream",
     "text": [
      "english.all.3class.distsim.crf.ser.gz  playground.ipynb\r\n",
      "english.muc.7class.distsim.crf.ser.gz  stanford-ner.jar\r\n",
      "example.serialized.ncc.ncc.ser.gz\r\n"
     ]
    }
   ],
   "source": [
    "ls"
   ]
  },
  {
   "cell_type": "code",
   "execution_count": null,
   "metadata": {},
   "outputs": [],
   "source": []
  }
 ],
 "metadata": {
  "kernelspec": {
   "display_name": "Python 3",
   "language": "python",
   "name": "python3"
  },
  "language_info": {
   "codemirror_mode": {
    "name": "ipython",
    "version": 3
   },
   "file_extension": ".py",
   "mimetype": "text/x-python",
   "name": "python",
   "nbconvert_exporter": "python",
   "pygments_lexer": "ipython3",
   "version": "3.7.3"
  }
 },
 "nbformat": 4,
 "nbformat_minor": 2
}
